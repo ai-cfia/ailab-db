{
  "cells": [
    {
      "cell_type": "code",
      "execution_count": null,
      "metadata": {
        "jupyter": {
          "outputs_hidden": false,
          "source_hidden": false
        },
        "nteract": {
          "transient": {
            "deleting": false
          }
        }
      },
      "outputs": [],
      "source": [
        "!pip install nomic  # if first time running, install nomic"
      ]
    },
    {
      "cell_type": "code",
      "execution_count": null,
      "metadata": {
        "jupyter": {
          "outputs_hidden": false,
          "source_hidden": false
        },
        "nteract": {
          "transient": {
            "deleting": false
          }
        }
      },
      "outputs": [],
      "source": [
        "import pandas as pd\n",
        "import numpy as np\n",
        "import nomic\n",
        "from nomic import atlas\n",
        "import ast\n",
        "# pd.set_option('max_colwidth', 1000)"
      ]
    },
    {
      "cell_type": "code",
      "execution_count": null,
      "metadata": {},
      "outputs": [],
      "source": [
        "# Run this if you don't have a nomic access token\n",
        "#!nomic login\n",
        "# Run this if you have nomic access token\n",
        "!nomic login 'HfFeBu516-CFtRnOFlEY9k-A5DWMqyKrhNe7XyxSv3irV'\n",
        "\n",
        "# Load data\n",
        "n_load = 10000 # how many rows to load. This affects run time\n",
        "file_path = '../data/documents_202310221252.csv'\n",
        "df_doc = pd.read_csv(file_path, encoding='utf-8-sig')[:n_load]\n",
        "\n",
        "# Nomic only allows unique ids\n",
        "for i in range(len(df_doc)):\n",
        "    df_doc['id'].iloc[i] = df_doc.iloc[i]['id']+str(i)\n",
        "print(df_doc['id'].duplicated().sum()) # check for duplicate id\n",
        "\n",
        "# Nomic only allow ids of length 36 and less\n",
        "df_doc['id'] = df_doc['id'].apply(lambda x: x[-36:])\n",
        "print('max id length-',df_doc['id'].str.len().max()) # check max id length\n",
        "\n",
        "# Turn embedding column from string to numpy array\n",
        "df_doc['embedding_np'] = df_doc['embedding'].apply(lambda x: ast.literal_eval(x))\n",
        "numpy_df_doc = np.array(list(df_doc['embedding_np']))\n",
        "print('numpy_df_doc.shape- ',numpy_df_doc.shape) # check embedding dimension\n",
        "\n",
        "# Nomic expects dictionary format as input data\n",
        "df_doc_dict = df_doc[['id','title','subtitle','content','score', 'url']].to_dict('records')\n",
        "\n",
        "# This line of code will generate a link to webapp visualisation\n",
        "response = atlas.map_embeddings(embeddings=numpy_df_doc,\n",
        "                                data=df_doc_dict,\n",
        "                                id_field='id',\n",
        "                                colorable_fields=['score'],\n",
        "                                name=\"Test example\", #change this every new run\n",
        "                                description=\"A text map with test embedding.\",\n",
        "                                #build_topic_model=True,  #ignore\n",
        "                                reset_project_if_exists=True) #checks duplicate project name"
      ]
    }
  ],
  "metadata": {
    "kernelspec": {
      "display_name": "Python 3.10 - SDK v2",
      "language": "python",
      "name": "python310-sdkv2"
    },
    "language_info": {
      "codemirror_mode": {
        "name": "ipython",
        "version": 3
      },
      "file_extension": ".py",
      "mimetype": "text/x-python",
      "name": "python",
      "nbconvert_exporter": "python",
      "pygments_lexer": "ipython3",
      "version": "3.10.6"
    },
    "microsoft": {
      "ms_spell_check": {
        "ms_spell_check_language": "en"
      }
    },
    "nteract": {
      "version": "nteract-front-end@1.0.0"
    }
  },
  "nbformat": 4,
  "nbformat_minor": 2
}
